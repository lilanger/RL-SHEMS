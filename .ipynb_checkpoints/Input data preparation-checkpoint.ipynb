{
 "cells": [
  {
   "cell_type": "code",
   "execution_count": 196,
   "metadata": {},
   "outputs": [],
   "source": [
    "Pkg.activate(pwd())\n",
    "Pkg.status()"
   ]
  },
  {
   "cell_type": "code",
   "execution_count": 197,
   "metadata": {},
   "outputs": [],
   "source": [
    "using CSV, DataFrames"
   ]
  },
  {
   "cell_type": "code",
   "execution_count": 198,
   "metadata": {},
   "outputs": [],
   "source": [
    "Input_df = CSV.read(\"data/201215_datafile_all.csv\", DataFrame);"
   ]
  },
  {
   "cell_type": "code",
   "execution_count": 199,
   "metadata": {
    "scrolled": true
   },
   "outputs": [
    {
     "data": {
      "text/html": [
       "<table class=\"data-frame\"><thead><tr><th></th><th>variable</th><th>mean</th><th>min</th><th>median</th><th>max</th><th>nmissing</th><th>eltype</th></tr><tr><th></th><th>Symbol</th><th>Float64</th><th>Real</th><th>Float64</th><th>Real</th><th>Int64</th><th>DataType</th></tr></thead><tbody><p>8 rows × 7 columns</p><tr><th>1</th><td>electkwh</td><td>0.353611</td><td>0.15532</td><td>0.350303</td><td>1.82909</td><td>0</td><td>Float64</td></tr><tr><th>2</th><td>heatingkwh</td><td>1.35625</td><td>0.0</td><td>0.027696</td><td>7.5231</td><td>0</td><td>Float64</td></tr><tr><th>3</th><td>hotwaterkwh</td><td>0.344568</td><td>0.0</td><td>0.0</td><td>5.50031</td><td>0</td><td>Float64</td></tr><tr><th>4</th><td>PV_generation</td><td>1.89333</td><td>0.0</td><td>0.007</td><td>10.0</td><td>0</td><td>Float64</td></tr><tr><th>5</th><td>Temperature</td><td>9.77827</td><td>-20.413</td><td>10.934</td><td>30.197</td><td>0</td><td>Float64</td></tr><tr><th>6</th><td>month</td><td>6.52603</td><td>1</td><td>7.0</td><td>12</td><td>0</td><td>Int64</td></tr><tr><th>7</th><td>day</td><td>15.7205</td><td>1</td><td>16.0</td><td>31</td><td>0</td><td>Int64</td></tr><tr><th>8</th><td>hour</td><td>11.5</td><td>0</td><td>11.5</td><td>23</td><td>0</td><td>Int64</td></tr></tbody></table>"
      ],
      "text/latex": [
       "\\begin{tabular}{r|ccccccc}\n",
       "\t& variable & mean & min & median & max & nmissing & eltype\\\\\n",
       "\t\\hline\n",
       "\t& Symbol & Float64 & Real & Float64 & Real & Int64 & DataType\\\\\n",
       "\t\\hline\n",
       "\t1 & electkwh & 0.353611 & 0.15532 & 0.350303 & 1.82909 & 0 & Float64 \\\\\n",
       "\t2 & heatingkwh & 1.35625 & 0.0 & 0.027696 & 7.5231 & 0 & Float64 \\\\\n",
       "\t3 & hotwaterkwh & 0.344568 & 0.0 & 0.0 & 5.50031 & 0 & Float64 \\\\\n",
       "\t4 & PV\\_generation & 1.89333 & 0.0 & 0.007 & 10.0 & 0 & Float64 \\\\\n",
       "\t5 & Temperature & 9.77827 & -20.413 & 10.934 & 30.197 & 0 & Float64 \\\\\n",
       "\t6 & month & 6.52603 & 1 & 7.0 & 12 & 0 & Int64 \\\\\n",
       "\t7 & day & 15.7205 & 1 & 16.0 & 31 & 0 & Int64 \\\\\n",
       "\t8 & hour & 11.5 & 0 & 11.5 & 23 & 0 & Int64 \\\\\n",
       "\\end{tabular}\n"
      ],
      "text/plain": [
       "\u001b[1m8×7 DataFrame\u001b[0m\n",
       "\u001b[1m Row \u001b[0m│\u001b[1m variable      \u001b[0m\u001b[1m mean      \u001b[0m\u001b[1m min       \u001b[0m\u001b[1m median    \u001b[0m\u001b[1m max      \u001b[0m\u001b[1m nmissing \u001b[0m\u001b[1m elt\u001b[0m ⋯\n",
       "\u001b[1m     \u001b[0m│\u001b[90m Symbol        \u001b[0m\u001b[90m Float64   \u001b[0m\u001b[90m Real      \u001b[0m\u001b[90m Float64   \u001b[0m\u001b[90m Real     \u001b[0m\u001b[90m Int64    \u001b[0m\u001b[90m Dat\u001b[0m ⋯\n",
       "─────┼──────────────────────────────────────────────────────────────────────────\n",
       "   1 │ electkwh        0.353611    0.15532   0.350303   1.82909         0  Flo ⋯\n",
       "   2 │ heatingkwh      1.35625     0.0       0.027696   7.5231          0  Flo\n",
       "   3 │ hotwaterkwh     0.344568    0.0       0.0        5.50031         0  Flo\n",
       "   4 │ PV_generation   1.89333     0.0       0.007     10.0             0  Flo\n",
       "   5 │ Temperature     9.77827   -20.413    10.934     30.197           0  Flo ⋯\n",
       "   6 │ month           6.52603     1         7.0       12               0  Int\n",
       "   7 │ day            15.7205      1        16.0       31               0  Int\n",
       "   8 │ hour           11.5         0        11.5       23               0  Int\n",
       "\u001b[36m                                                                1 column omitted\u001b[0m"
      ]
     },
     "execution_count": 199,
     "metadata": {},
     "output_type": "execute_result"
    }
   ],
   "source": [
    "describe(Input_df)"
   ]
  },
  {
   "cell_type": "code",
   "execution_count": 200,
   "metadata": {},
   "outputs": [
    {
     "data": {
      "text/plain": [
       "1:8760"
      ]
     },
     "execution_count": 200,
     "metadata": {},
     "output_type": "execute_result"
    }
   ],
   "source": [
    "# add new column with number of days\n",
    "Input_df[!, :nday] = 1:nrow(Input_df)"
   ]
  },
  {
   "cell_type": "markdown",
   "metadata": {},
   "source": [
    "## Add periodical time representation using cos/sin"
   ]
  },
  {
   "cell_type": "code",
   "execution_count": 201,
   "metadata": {},
   "outputs": [],
   "source": [
    "# add columns with cos and sin values for periodical time values day + month\n",
    "Input_df[!, :hour_cos] = cos.(Input_df[!,:hour] ./ maximum(Input_df[!,:hour]) .* 2*pi);\n",
    "Input_df[!, :hour_sin] = sin.(Input_df[!,:hour] ./ maximum(Input_df[!,:hour]) .* 2*pi);\n",
    "\n",
    "# do not use month/day but number of day\n",
    "#Input_df[!, :day_cos] = cos.(Input_df[!,:day] ./ maximum(Input_df[!,:day]) .* 2*pi);\n",
    "#Input_df[!, :day_sin] = sin.(Input_df[!,:day] ./ maximum(Input_df[!,:day]) .* 2*pi);\n",
    "\n",
    "Input_df[!, :month_cos] = cos.(Input_df[!,:month] ./ maximum(Input_df[!,:month]) .* 2*pi);\n",
    "Input_df[!, :month_sin] = sin.(Input_df[!,:month] ./ maximum(Input_df[!,:month]) .* 2*pi);\n",
    "\n",
    "Input_df[!, :nday_cos] = cos.(Input_df[!,:nday] ./ maximum(Input_df[!,:nday]) .* 2*pi);\n",
    "Input_df[!, :nday_sin] = sin.(Input_df[!,:nday] ./ maximum(Input_df[!,:nday]) .* 2*pi);"
   ]
  },
  {
   "cell_type": "code",
   "execution_count": 202,
   "metadata": {
    "scrolled": true
   },
   "outputs": [
    {
     "data": {
      "text/html": [
       "<table class=\"data-frame\"><thead><tr><th></th><th>variable</th><th>mean</th><th>min</th><th>median</th><th>max</th><th>nmissing</th><th>eltype</th></tr><tr><th></th><th>Symbol</th><th>Float64</th><th>Real</th><th>Float64</th><th>Real</th><th>Int64</th><th>DataType</th></tr></thead><tbody><p>13 rows × 7 columns</p><tr><th>1</th><td>electkwh</td><td>0.353611</td><td>0.15532</td><td>0.350303</td><td>1.82909</td><td>0</td><td>Float64</td></tr><tr><th>2</th><td>heatingkwh</td><td>1.35625</td><td>0.0</td><td>0.027696</td><td>7.5231</td><td>0</td><td>Float64</td></tr><tr><th>3</th><td>hotwaterkwh</td><td>0.344568</td><td>0.0</td><td>0.0</td><td>5.50031</td><td>0</td><td>Float64</td></tr><tr><th>4</th><td>PV_generation</td><td>1.89333</td><td>0.0</td><td>0.007</td><td>10.0</td><td>0</td><td>Float64</td></tr><tr><th>5</th><td>Temperature</td><td>9.77827</td><td>-20.413</td><td>10.934</td><td>30.197</td><td>0</td><td>Float64</td></tr><tr><th>6</th><td>month</td><td>6.52603</td><td>1</td><td>7.0</td><td>12</td><td>0</td><td>Int64</td></tr><tr><th>7</th><td>day</td><td>15.7205</td><td>1</td><td>16.0</td><td>31</td><td>0</td><td>Int64</td></tr><tr><th>8</th><td>hour</td><td>11.5</td><td>0</td><td>11.5</td><td>23</td><td>0</td><td>Int64</td></tr><tr><th>9</th><td>nday</td><td>4380.5</td><td>1</td><td>4380.5</td><td>8760</td><td>0</td><td>Int64</td></tr><tr><th>10</th><td>hour_cos</td><td>0.0416667</td><td>-0.990686</td><td>0.0676068</td><td>1.0</td><td>0</td><td>Float64</td></tr><tr><th>11</th><td>hour_sin</td><td>-2.54489e-17</td><td>-0.997669</td><td>-1.22465e-16</td><td>0.997669</td><td>0</td><td>Float64</td></tr><tr><th>12</th><td>nday_cos</td><td>-2.59559e-17</td><td>-1.0</td><td>-6.12323e-17</td><td>1.0</td><td>0</td><td>Float64</td></tr><tr><th>13</th><td>nday_sin</td><td>0.0</td><td>-1.0</td><td>-6.12323e-17</td><td>1.0</td><td>0</td><td>Float64</td></tr></tbody></table>"
      ],
      "text/latex": [
       "\\begin{tabular}{r|ccccccc}\n",
       "\t& variable & mean & min & median & max & nmissing & eltype\\\\\n",
       "\t\\hline\n",
       "\t& Symbol & Float64 & Real & Float64 & Real & Int64 & DataType\\\\\n",
       "\t\\hline\n",
       "\t1 & electkwh & 0.353611 & 0.15532 & 0.350303 & 1.82909 & 0 & Float64 \\\\\n",
       "\t2 & heatingkwh & 1.35625 & 0.0 & 0.027696 & 7.5231 & 0 & Float64 \\\\\n",
       "\t3 & hotwaterkwh & 0.344568 & 0.0 & 0.0 & 5.50031 & 0 & Float64 \\\\\n",
       "\t4 & PV\\_generation & 1.89333 & 0.0 & 0.007 & 10.0 & 0 & Float64 \\\\\n",
       "\t5 & Temperature & 9.77827 & -20.413 & 10.934 & 30.197 & 0 & Float64 \\\\\n",
       "\t6 & month & 6.52603 & 1 & 7.0 & 12 & 0 & Int64 \\\\\n",
       "\t7 & day & 15.7205 & 1 & 16.0 & 31 & 0 & Int64 \\\\\n",
       "\t8 & hour & 11.5 & 0 & 11.5 & 23 & 0 & Int64 \\\\\n",
       "\t9 & nday & 4380.5 & 1 & 4380.5 & 8760 & 0 & Int64 \\\\\n",
       "\t10 & hour\\_cos & 0.0416667 & -0.990686 & 0.0676068 & 1.0 & 0 & Float64 \\\\\n",
       "\t11 & hour\\_sin & -2.54489e-17 & -0.997669 & -1.22465e-16 & 0.997669 & 0 & Float64 \\\\\n",
       "\t12 & nday\\_cos & -2.59559e-17 & -1.0 & -6.12323e-17 & 1.0 & 0 & Float64 \\\\\n",
       "\t13 & nday\\_sin & 0.0 & -1.0 & -6.12323e-17 & 1.0 & 0 & Float64 \\\\\n",
       "\\end{tabular}\n"
      ],
      "text/plain": [
       "\u001b[1m13×7 DataFrame\u001b[0m\n",
       "\u001b[1m Row \u001b[0m│\u001b[1m variable      \u001b[0m\u001b[1m mean           \u001b[0m\u001b[1m min        \u001b[0m\u001b[1m median         \u001b[0m\u001b[1m max         \u001b[0m\u001b[1m\u001b[0m ⋯\n",
       "\u001b[1m     \u001b[0m│\u001b[90m Symbol        \u001b[0m\u001b[90m Float64        \u001b[0m\u001b[90m Real       \u001b[0m\u001b[90m Float64        \u001b[0m\u001b[90m Real        \u001b[0m\u001b[90m\u001b[0m ⋯\n",
       "─────┼──────────────────────────────────────────────────────────────────────────\n",
       "   1 │ electkwh          0.353611       0.15532      0.350303        1.82909   ⋯\n",
       "   2 │ heatingkwh        1.35625        0.0          0.027696        7.5231\n",
       "   3 │ hotwaterkwh       0.344568       0.0          0.0             5.50031\n",
       "   4 │ PV_generation     1.89333        0.0          0.007          10.0\n",
       "   5 │ Temperature       9.77827      -20.413       10.934          30.197     ⋯\n",
       "   6 │ month             6.52603        1            7.0            12\n",
       "   7 │ day              15.7205         1           16.0            31\n",
       "   8 │ hour             11.5            0           11.5            23\n",
       "   9 │ nday           4380.5            1         4380.5          8760         ⋯\n",
       "  10 │ hour_cos          0.0416667     -0.990686     0.0676068       1.0\n",
       "  11 │ hour_sin         -2.54489e-17   -0.997669    -1.22465e-16     0.997669\n",
       "  12 │ nday_cos         -2.59559e-17   -1.0         -6.12323e-17     1.0\n",
       "  13 │ nday_sin          0.0           -1.0         -6.12323e-17     1.0       ⋯\n",
       "\u001b[36m                                                               2 columns omitted\u001b[0m"
      ]
     },
     "execution_count": 202,
     "metadata": {},
     "output_type": "execute_result"
    }
   ],
   "source": [
    "describe(Input_df)"
   ]
  },
  {
   "cell_type": "markdown",
   "metadata": {},
   "source": [
    "## Extract training, testing + evalution data set for summer, winter + all"
   ]
  },
  {
   "cell_type": "code",
   "execution_count": 203,
   "metadata": {
    "scrolled": false
   },
   "outputs": [
    {
     "data": {
      "text/html": [
       "<table class=\"data-frame\"><thead><tr><th></th><th>variable</th><th>mean</th><th>min</th><th>median</th><th>max</th><th>nmissing</th><th>eltype</th></tr><tr><th></th><th>Symbol</th><th>Float64</th><th>Real</th><th>Float64</th><th>Real</th><th>Int64</th><th>DataType</th></tr></thead><tbody><p>13 rows × 7 columns</p><tr><th>1</th><td>electkwh</td><td>0.308262</td><td>0.15532</td><td>0.310149</td><td>1.18675</td><td>0</td><td>Float64</td></tr><tr><th>2</th><td>heatingkwh</td><td>0.00587495</td><td>0.0</td><td>0.0</td><td>1.23951</td><td>0</td><td>Float64</td></tr><tr><th>3</th><td>hotwaterkwh</td><td>0.257596</td><td>0.0</td><td>0.0</td><td>5.50031</td><td>0</td><td>Float64</td></tr><tr><th>4</th><td>PV_generation</td><td>2.26376</td><td>0.0</td><td>0.603</td><td>9.154</td><td>0</td><td>Float64</td></tr><tr><th>5</th><td>Temperature</td><td>20.596</td><td>7.075</td><td>20.7915</td><td>29.626</td><td>0</td><td>Float64</td></tr><tr><th>6</th><td>month</td><td>7.01087</td><td>6</td><td>7.0</td><td>8</td><td>0</td><td>Int64</td></tr><tr><th>7</th><td>day</td><td>15.837</td><td>1</td><td>16.0</td><td>31</td><td>0</td><td>Int64</td></tr><tr><th>8</th><td>hour</td><td>11.5</td><td>0</td><td>11.5</td><td>23</td><td>0</td><td>Int64</td></tr><tr><th>9</th><td>nday</td><td>4728.5</td><td>3625</td><td>4728.5</td><td>5832</td><td>0</td><td>Int64</td></tr><tr><th>10</th><td>hour_cos</td><td>0.0416667</td><td>-0.990686</td><td>0.0676068</td><td>1.0</td><td>0</td><td>Float64</td></tr><tr><th>11</th><td>hour_sin</td><td>-2.67914e-17</td><td>-0.997669</td><td>-1.22465e-16</td><td>0.997669</td><td>0</td><td>Float64</td></tr><tr><th>12</th><td>nday_cos</td><td>-0.870791</td><td>-1.0</td><td>-0.92264</td><td>-0.504961</td><td>0</td><td>Float64</td></tr><tr><th>13</th><td>nday_sin</td><td>-0.222317</td><td>-0.863142</td><td>-0.24737</td><td>0.515448</td><td>0</td><td>Float64</td></tr></tbody></table>"
      ],
      "text/latex": [
       "\\begin{tabular}{r|ccccccc}\n",
       "\t& variable & mean & min & median & max & nmissing & eltype\\\\\n",
       "\t\\hline\n",
       "\t& Symbol & Float64 & Real & Float64 & Real & Int64 & DataType\\\\\n",
       "\t\\hline\n",
       "\t1 & electkwh & 0.308262 & 0.15532 & 0.310149 & 1.18675 & 0 & Float64 \\\\\n",
       "\t2 & heatingkwh & 0.00587495 & 0.0 & 0.0 & 1.23951 & 0 & Float64 \\\\\n",
       "\t3 & hotwaterkwh & 0.257596 & 0.0 & 0.0 & 5.50031 & 0 & Float64 \\\\\n",
       "\t4 & PV\\_generation & 2.26376 & 0.0 & 0.603 & 9.154 & 0 & Float64 \\\\\n",
       "\t5 & Temperature & 20.596 & 7.075 & 20.7915 & 29.626 & 0 & Float64 \\\\\n",
       "\t6 & month & 7.01087 & 6 & 7.0 & 8 & 0 & Int64 \\\\\n",
       "\t7 & day & 15.837 & 1 & 16.0 & 31 & 0 & Int64 \\\\\n",
       "\t8 & hour & 11.5 & 0 & 11.5 & 23 & 0 & Int64 \\\\\n",
       "\t9 & nday & 4728.5 & 3625 & 4728.5 & 5832 & 0 & Int64 \\\\\n",
       "\t10 & hour\\_cos & 0.0416667 & -0.990686 & 0.0676068 & 1.0 & 0 & Float64 \\\\\n",
       "\t11 & hour\\_sin & -2.67914e-17 & -0.997669 & -1.22465e-16 & 0.997669 & 0 & Float64 \\\\\n",
       "\t12 & nday\\_cos & -0.870791 & -1.0 & -0.92264 & -0.504961 & 0 & Float64 \\\\\n",
       "\t13 & nday\\_sin & -0.222317 & -0.863142 & -0.24737 & 0.515448 & 0 & Float64 \\\\\n",
       "\\end{tabular}\n"
      ],
      "text/plain": [
       "\u001b[1m13×7 DataFrame\u001b[0m\n",
       "\u001b[1m Row \u001b[0m│\u001b[1m variable      \u001b[0m\u001b[1m mean           \u001b[0m\u001b[1m min         \u001b[0m\u001b[1m median         \u001b[0m\u001b[1m max        \u001b[0m ⋯\n",
       "\u001b[1m     \u001b[0m│\u001b[90m Symbol        \u001b[0m\u001b[90m Float64        \u001b[0m\u001b[90m Real        \u001b[0m\u001b[90m Float64        \u001b[0m\u001b[90m Real       \u001b[0m ⋯\n",
       "─────┼──────────────────────────────────────────────────────────────────────────\n",
       "   1 │ electkwh          0.308262        0.15532      0.310149        1.18675  ⋯\n",
       "   2 │ heatingkwh        0.00587495      0.0          0.0             1.23951\n",
       "   3 │ hotwaterkwh       0.257596        0.0          0.0             5.50031\n",
       "   4 │ PV_generation     2.26376         0.0          0.603           9.154\n",
       "   5 │ Temperature      20.596           7.075       20.7915         29.626    ⋯\n",
       "   6 │ month             7.01087         6            7.0             8\n",
       "   7 │ day              15.837           1           16.0            31\n",
       "   8 │ hour             11.5             0           11.5            23\n",
       "   9 │ nday           4728.5          3625         4728.5          5832        ⋯\n",
       "  10 │ hour_cos          0.0416667      -0.990686     0.0676068       1.0\n",
       "  11 │ hour_sin         -2.67914e-17    -0.997669    -1.22465e-16     0.997669\n",
       "  12 │ nday_cos         -0.870791       -1.0         -0.92264        -0.504961\n",
       "  13 │ nday_sin         -0.222317       -0.863142    -0.24737         0.515448 ⋯\n",
       "\u001b[36m                                                               2 columns omitted\u001b[0m"
      ]
     },
     "execution_count": 203,
     "metadata": {},
     "output_type": "execute_result"
    }
   ],
   "source": [
    "# summer June - August\n",
    "Input_data_summer = filter(row -> row.month >= 6 && row.month  <= 8, Input_df)\n",
    "\n",
    "describe(Input_data_summer)"
   ]
  },
  {
   "cell_type": "code",
   "execution_count": 204,
   "metadata": {},
   "outputs": [],
   "source": [
    "# summer split\n",
    "summer_training = filter(row -> row.day <= 15, Input_data_summer)\n",
    "summer_evaluation = filter(row -> row.day > 15 && row.day <= 20, Input_data_summer)\n",
    "summer_testing = filter(row -> row.day > 20, Input_data_summer)\n",
    "\n",
    "# write data files\n",
    "CSV.write(\"data/summer_training.csv\", summer_training);\n",
    "CSV.write(\"data/summer_testing.csv\", summer_testing);\n",
    "CSV.write(\"data/summer_evaluation.csv\", summer_evaluation);"
   ]
  },
  {
   "cell_type": "code",
   "execution_count": 205,
   "metadata": {
    "scrolled": false
   },
   "outputs": [
    {
     "data": {
      "text/html": [
       "<table class=\"data-frame\"><thead><tr><th></th><th>variable</th><th>mean</th><th>min</th><th>median</th><th>max</th><th>nmissing</th><th>eltype</th></tr><tr><th></th><th>Symbol</th><th>Float64</th><th>Real</th><th>Float64</th><th>Real</th><th>Int64</th><th>DataType</th></tr></thead><tbody><p>13 rows × 7 columns</p><tr><th>1</th><td>electkwh</td><td>0.40455</td><td>0.200706</td><td>0.40841</td><td>1.55576</td><td>0</td><td>Float64</td></tr><tr><th>2</th><td>heatingkwh</td><td>3.50821</td><td>0.01753</td><td>3.67684</td><td>7.5231</td><td>0</td><td>Float64</td></tr><tr><th>3</th><td>hotwaterkwh</td><td>0.396046</td><td>0.0</td><td>0.0</td><td>5.50031</td><td>0</td><td>Float64</td></tr><tr><th>4</th><td>PV_generation</td><td>1.32633</td><td>0.0</td><td>0.0</td><td>10.0</td><td>0</td><td>Float64</td></tr><tr><th>5</th><td>Temperature</td><td>-2.88367</td><td>-20.413</td><td>-2.0965</td><td>14.845</td><td>0</td><td>Float64</td></tr><tr><th>6</th><td>month</td><td>5.1</td><td>1</td><td>2.0</td><td>12</td><td>0</td><td>Int64</td></tr><tr><th>7</th><td>day</td><td>15.5333</td><td>1</td><td>15.5</td><td>31</td><td>0</td><td>Int64</td></tr><tr><th>8</th><td>hour</td><td>11.5</td><td>0</td><td>11.5</td><td>23</td><td>0</td><td>Int64</td></tr><tr><th>9</th><td>nday</td><td>3353.83</td><td>1</td><td>1080.5</td><td>8760</td><td>0</td><td>Int64</td></tr><tr><th>10</th><td>hour_cos</td><td>0.0416667</td><td>-0.990686</td><td>0.0676068</td><td>1.0</td><td>0</td><td>Float64</td></tr><tr><th>11</th><td>hour_sin</td><td>-2.46716e-17</td><td>-0.997669</td><td>-1.22465e-16</td><td>0.997669</td><td>0</td><td>Float64</td></tr><tr><th>12</th><td>nday_cos</td><td>0.876775</td><td>0.527078</td><td>0.925925</td><td>1.0</td><td>0</td><td>Float64</td></tr><tr><th>13</th><td>nday_sin</td><td>0.215823</td><td>-0.508053</td><td>0.239021</td><td>0.849817</td><td>0</td><td>Float64</td></tr></tbody></table>"
      ],
      "text/latex": [
       "\\begin{tabular}{r|ccccccc}\n",
       "\t& variable & mean & min & median & max & nmissing & eltype\\\\\n",
       "\t\\hline\n",
       "\t& Symbol & Float64 & Real & Float64 & Real & Int64 & DataType\\\\\n",
       "\t\\hline\n",
       "\t1 & electkwh & 0.40455 & 0.200706 & 0.40841 & 1.55576 & 0 & Float64 \\\\\n",
       "\t2 & heatingkwh & 3.50821 & 0.01753 & 3.67684 & 7.5231 & 0 & Float64 \\\\\n",
       "\t3 & hotwaterkwh & 0.396046 & 0.0 & 0.0 & 5.50031 & 0 & Float64 \\\\\n",
       "\t4 & PV\\_generation & 1.32633 & 0.0 & 0.0 & 10.0 & 0 & Float64 \\\\\n",
       "\t5 & Temperature & -2.88367 & -20.413 & -2.0965 & 14.845 & 0 & Float64 \\\\\n",
       "\t6 & month & 5.1 & 1 & 2.0 & 12 & 0 & Int64 \\\\\n",
       "\t7 & day & 15.5333 & 1 & 15.5 & 31 & 0 & Int64 \\\\\n",
       "\t8 & hour & 11.5 & 0 & 11.5 & 23 & 0 & Int64 \\\\\n",
       "\t9 & nday & 3353.83 & 1 & 1080.5 & 8760 & 0 & Int64 \\\\\n",
       "\t10 & hour\\_cos & 0.0416667 & -0.990686 & 0.0676068 & 1.0 & 0 & Float64 \\\\\n",
       "\t11 & hour\\_sin & -2.46716e-17 & -0.997669 & -1.22465e-16 & 0.997669 & 0 & Float64 \\\\\n",
       "\t12 & nday\\_cos & 0.876775 & 0.527078 & 0.925925 & 1.0 & 0 & Float64 \\\\\n",
       "\t13 & nday\\_sin & 0.215823 & -0.508053 & 0.239021 & 0.849817 & 0 & Float64 \\\\\n",
       "\\end{tabular}\n"
      ],
      "text/plain": [
       "\u001b[1m13×7 DataFrame\u001b[0m\n",
       "\u001b[1m Row \u001b[0m│\u001b[1m variable      \u001b[0m\u001b[1m mean           \u001b[0m\u001b[1m min        \u001b[0m\u001b[1m median         \u001b[0m\u001b[1m max         \u001b[0m\u001b[1m\u001b[0m ⋯\n",
       "\u001b[1m     \u001b[0m│\u001b[90m Symbol        \u001b[0m\u001b[90m Float64        \u001b[0m\u001b[90m Real       \u001b[0m\u001b[90m Float64        \u001b[0m\u001b[90m Real        \u001b[0m\u001b[90m\u001b[0m ⋯\n",
       "─────┼──────────────────────────────────────────────────────────────────────────\n",
       "   1 │ electkwh          0.40455        0.200706     0.40841         1.55576   ⋯\n",
       "   2 │ heatingkwh        3.50821        0.01753      3.67684         7.5231\n",
       "   3 │ hotwaterkwh       0.396046       0.0          0.0             5.50031\n",
       "   4 │ PV_generation     1.32633        0.0          0.0            10.0\n",
       "   5 │ Temperature      -2.88367      -20.413       -2.0965         14.845     ⋯\n",
       "   6 │ month             5.1            1            2.0            12\n",
       "   7 │ day              15.5333         1           15.5            31\n",
       "   8 │ hour             11.5            0           11.5            23\n",
       "   9 │ nday           3353.83           1         1080.5          8760         ⋯\n",
       "  10 │ hour_cos          0.0416667     -0.990686     0.0676068       1.0\n",
       "  11 │ hour_sin         -2.46716e-17   -0.997669    -1.22465e-16     0.997669\n",
       "  12 │ nday_cos          0.876775       0.527078     0.925925        1.0\n",
       "  13 │ nday_sin          0.215823      -0.508053     0.239021        0.849817  ⋯\n",
       "\u001b[36m                                                               2 columns omitted\u001b[0m"
      ]
     },
     "execution_count": 205,
     "metadata": {},
     "output_type": "execute_result"
    }
   ],
   "source": [
    "# winter \n",
    "Input_data_winter = filter(row -> row.month >= 12 || row.month  <= 2, Input_df)\n",
    "\n",
    "describe(Input_data_winter)"
   ]
  },
  {
   "cell_type": "code",
   "execution_count": 206,
   "metadata": {},
   "outputs": [],
   "source": [
    "# winter split\n",
    "winter_training = filter(row -> row.day <= 15, Input_data_winter)\n",
    "winter_evaluation = filter(row -> row.day > 15 && row.day <= 20, Input_data_winter)\n",
    "winter_testing = filter(row -> row.day > 20, Input_data_winter)\n",
    "\n",
    "# write data files\n",
    "CSV.write(\"data/winter_training.csv\", winter_training);\n",
    "CSV.write(\"data/winter_testing.csv\", winter_testing);\n",
    "CSV.write(\"data/winter_evaluation.csv\", winter_evaluation);"
   ]
  },
  {
   "cell_type": "code",
   "execution_count": 207,
   "metadata": {},
   "outputs": [],
   "source": [
    "# whole year split\n",
    "all_training = filter(row -> row.day <= 15, Input_df)\n",
    "all_evaluation = filter(row -> row.day > 15 && row.day <= 20, Input_df)\n",
    "all_testing = filter(row -> row.day > 20, Input_df)\n",
    "\n",
    "# write data files\n",
    "CSV.write(\"data/all_training.csv\", all_training);\n",
    "CSV.write(\"data/all_testing.csv\", all_testing);\n",
    "CSV.write(\"data/all_evaluation.csv\", all_evaluation);"
   ]
  }
 ],
 "metadata": {
  "kernelspec": {
   "display_name": "Julia 1.6.1",
   "language": "julia",
   "name": "julia-1.6"
  },
  "language_info": {
   "file_extension": ".jl",
   "mimetype": "application/julia",
   "name": "julia",
   "version": "1.6.1"
  }
 },
 "nbformat": 4,
 "nbformat_minor": 2
}
