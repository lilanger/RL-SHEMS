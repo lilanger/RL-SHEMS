{
 "cells": [
  {
   "cell_type": "code",
   "execution_count": 1,
   "metadata": {},
   "outputs": [
    {
     "name": "stderr",
     "output_type": "stream",
     "text": [
      "┌ Info: Precompiling DataFrames [a93c6f00-e57d-5684-b7b6-d8193f3e46c0]\n",
      "└ @ Base loading.jl:1317\n"
     ]
    }
   ],
   "source": [
    "using CSV, DataFrames"
   ]
  },
  {
   "cell_type": "code",
   "execution_count": 2,
   "metadata": {},
   "outputs": [],
   "source": [
    "Input_df = CSV.read(\"data/201215_datafile_all.csv\", DataFrame);"
   ]
  },
  {
   "cell_type": "code",
   "execution_count": 3,
   "metadata": {
    "scrolled": true
   },
   "outputs": [
    {
     "data": {
      "text/html": [
       "<table class=\"data-frame\"><thead><tr><th></th><th>variable</th><th>mean</th><th>min</th><th>median</th><th>max</th><th>nmissing</th><th>eltype</th></tr><tr><th></th><th>Symbol</th><th>Float64</th><th>Real</th><th>Float64</th><th>Real</th><th>Int64</th><th>DataType</th></tr></thead><tbody><p>8 rows × 7 columns</p><tr><th>1</th><td>electkwh</td><td>0.353611</td><td>0.15532</td><td>0.350303</td><td>1.82909</td><td>0</td><td>Float64</td></tr><tr><th>2</th><td>heatingkwh</td><td>1.35625</td><td>0.0</td><td>0.027696</td><td>7.5231</td><td>0</td><td>Float64</td></tr><tr><th>3</th><td>hotwaterkwh</td><td>0.344568</td><td>0.0</td><td>0.0</td><td>5.50031</td><td>0</td><td>Float64</td></tr><tr><th>4</th><td>PV_generation</td><td>1.89333</td><td>0.0</td><td>0.007</td><td>10.0</td><td>0</td><td>Float64</td></tr><tr><th>5</th><td>Temperature</td><td>9.77827</td><td>-20.413</td><td>10.934</td><td>30.197</td><td>0</td><td>Float64</td></tr><tr><th>6</th><td>month</td><td>6.52603</td><td>1</td><td>7.0</td><td>12</td><td>0</td><td>Int64</td></tr><tr><th>7</th><td>day</td><td>15.7205</td><td>1</td><td>16.0</td><td>31</td><td>0</td><td>Int64</td></tr><tr><th>8</th><td>hour</td><td>11.5</td><td>0</td><td>11.5</td><td>23</td><td>0</td><td>Int64</td></tr></tbody></table>"
      ],
      "text/latex": [
       "\\begin{tabular}{r|ccccccc}\n",
       "\t& variable & mean & min & median & max & nmissing & eltype\\\\\n",
       "\t\\hline\n",
       "\t& Symbol & Float64 & Real & Float64 & Real & Int64 & DataType\\\\\n",
       "\t\\hline\n",
       "\t1 & electkwh & 0.353611 & 0.15532 & 0.350303 & 1.82909 & 0 & Float64 \\\\\n",
       "\t2 & heatingkwh & 1.35625 & 0.0 & 0.027696 & 7.5231 & 0 & Float64 \\\\\n",
       "\t3 & hotwaterkwh & 0.344568 & 0.0 & 0.0 & 5.50031 & 0 & Float64 \\\\\n",
       "\t4 & PV\\_generation & 1.89333 & 0.0 & 0.007 & 10.0 & 0 & Float64 \\\\\n",
       "\t5 & Temperature & 9.77827 & -20.413 & 10.934 & 30.197 & 0 & Float64 \\\\\n",
       "\t6 & month & 6.52603 & 1 & 7.0 & 12 & 0 & Int64 \\\\\n",
       "\t7 & day & 15.7205 & 1 & 16.0 & 31 & 0 & Int64 \\\\\n",
       "\t8 & hour & 11.5 & 0 & 11.5 & 23 & 0 & Int64 \\\\\n",
       "\\end{tabular}\n"
      ],
      "text/plain": [
       "\u001b[1m8×7 DataFrame\u001b[0m\n",
       "\u001b[1m Row \u001b[0m│\u001b[1m variable      \u001b[0m\u001b[1m mean      \u001b[0m\u001b[1m min       \u001b[0m\u001b[1m median    \u001b[0m\u001b[1m max      \u001b[0m\u001b[1m nmissing \u001b[0m\u001b[1m elt\u001b[0m ⋯\n",
       "\u001b[1m     \u001b[0m│\u001b[90m Symbol        \u001b[0m\u001b[90m Float64   \u001b[0m\u001b[90m Real      \u001b[0m\u001b[90m Float64   \u001b[0m\u001b[90m Real     \u001b[0m\u001b[90m Int64    \u001b[0m\u001b[90m Dat\u001b[0m ⋯\n",
       "─────┼──────────────────────────────────────────────────────────────────────────\n",
       "   1 │ electkwh        0.353611    0.15532   0.350303   1.82909         0  Flo ⋯\n",
       "   2 │ heatingkwh      1.35625     0.0       0.027696   7.5231          0  Flo\n",
       "   3 │ hotwaterkwh     0.344568    0.0       0.0        5.50031         0  Flo\n",
       "   4 │ PV_generation   1.89333     0.0       0.007     10.0             0  Flo\n",
       "   5 │ Temperature     9.77827   -20.413    10.934     30.197           0  Flo ⋯\n",
       "   6 │ month           6.52603     1         7.0       12               0  Int\n",
       "   7 │ day            15.7205      1        16.0       31               0  Int\n",
       "   8 │ hour           11.5         0        11.5       23               0  Int\n",
       "\u001b[36m                                                                1 column omitted\u001b[0m"
      ]
     },
     "execution_count": 3,
     "metadata": {},
     "output_type": "execute_result"
    }
   ],
   "source": [
    "describe(Input_df)"
   ]
  },
  {
   "cell_type": "code",
   "execution_count": 4,
   "metadata": {},
   "outputs": [
    {
     "data": {
      "text/plain": [
       "1:8760"
      ]
     },
     "execution_count": 4,
     "metadata": {},
     "output_type": "execute_result"
    }
   ],
   "source": [
    "# add new column with number of days\n",
    "Input_df[!, :nday] = 1:nrow(Input_df)"
   ]
  },
  {
   "cell_type": "markdown",
   "metadata": {},
   "source": [
    "## Add periodical time representation using cos/sin"
   ]
  },
  {
   "cell_type": "code",
   "execution_count": 5,
   "metadata": {},
   "outputs": [],
   "source": [
    "# add columns with cos and sin values for periodical time values day + month\n",
    "Input_df[!, :hour_cos] = cos.(Input_df[!,:hour] ./ maximum(Input_df[!,:hour]) .* 2*pi);\n",
    "Input_df[!, :hour_sin] = sin.(Input_df[!,:hour] ./ maximum(Input_df[!,:hour]) .* 2*pi);\n",
    "\n",
    "# do not use month/day but number of day\n",
    "#Input_df[!, :day_cos] = cos.(Input_df[!,:day] ./ maximum(Input_df[!,:day]) .* 2*pi);\n",
    "#Input_df[!, :day_sin] = sin.(Input_df[!,:day] ./ maximum(Input_df[!,:day]) .* 2*pi);\n",
    "\n",
    "Input_df[!, :month_cos] = cos.(Input_df[!,:month] ./ maximum(Input_df[!,:month]) .* 2*pi);\n",
    "Input_df[!, :month_sin] = sin.(Input_df[!,:month] ./ maximum(Input_df[!,:month]) .* 2*pi);\n",
    "\n",
    "#Input_df[!, :nday_cos] = cos.(Input_df[!,:nday] ./ maximum(Input_df[!,:nday]) .* 2*pi);\n",
    "#Input_df[!, :nday_sin] = sin.(Input_df[!,:nday] ./ maximum(Input_df[!,:nday]) .* 2*pi);"
   ]
  },
  {
   "cell_type": "code",
   "execution_count": 6,
   "metadata": {
    "scrolled": false
   },
   "outputs": [
    {
     "data": {
      "text/html": [
       "<table class=\"data-frame\"><thead><tr><th></th><th>variable</th><th>mean</th><th>min</th><th>median</th><th>max</th><th>nmissing</th><th>eltype</th></tr><tr><th></th><th>Symbol</th><th>Float64</th><th>Real</th><th>Float64</th><th>Real</th><th>Int64</th><th>DataType</th></tr></thead><tbody><p>13 rows × 7 columns</p><tr><th>1</th><td>electkwh</td><td>0.353611</td><td>0.15532</td><td>0.350303</td><td>1.82909</td><td>0</td><td>Float64</td></tr><tr><th>2</th><td>heatingkwh</td><td>1.35625</td><td>0.0</td><td>0.027696</td><td>7.5231</td><td>0</td><td>Float64</td></tr><tr><th>3</th><td>hotwaterkwh</td><td>0.344568</td><td>0.0</td><td>0.0</td><td>5.50031</td><td>0</td><td>Float64</td></tr><tr><th>4</th><td>PV_generation</td><td>1.89333</td><td>0.0</td><td>0.007</td><td>10.0</td><td>0</td><td>Float64</td></tr><tr><th>5</th><td>Temperature</td><td>9.77827</td><td>-20.413</td><td>10.934</td><td>30.197</td><td>0</td><td>Float64</td></tr><tr><th>6</th><td>month</td><td>6.52603</td><td>1</td><td>7.0</td><td>12</td><td>0</td><td>Int64</td></tr><tr><th>7</th><td>day</td><td>15.7205</td><td>1</td><td>16.0</td><td>31</td><td>0</td><td>Int64</td></tr><tr><th>8</th><td>hour</td><td>11.5</td><td>0</td><td>11.5</td><td>23</td><td>0</td><td>Int64</td></tr><tr><th>9</th><td>nday</td><td>4380.5</td><td>1</td><td>4380.5</td><td>8760</td><td>0</td><td>Int64</td></tr><tr><th>10</th><td>hour_cos</td><td>0.0416667</td><td>-0.990686</td><td>0.0676068</td><td>1.0</td><td>0</td><td>Float64</td></tr><tr><th>11</th><td>hour_sin</td><td>-2.54489e-17</td><td>-0.997669</td><td>-1.22465e-16</td><td>0.997669</td><td>0</td><td>Float64</td></tr><tr><th>12</th><td>month_cos</td><td>-0.00237267</td><td>-1.0</td><td>-1.83697e-16</td><td>1.0</td><td>0</td><td>Float64</td></tr><tr><th>13</th><td>month_sin</td><td>-0.0053811</td><td>-1.0</td><td>-2.44929e-16</td><td>1.0</td><td>0</td><td>Float64</td></tr></tbody></table>"
      ],
      "text/latex": [
       "\\begin{tabular}{r|ccccccc}\n",
       "\t& variable & mean & min & median & max & nmissing & eltype\\\\\n",
       "\t\\hline\n",
       "\t& Symbol & Float64 & Real & Float64 & Real & Int64 & DataType\\\\\n",
       "\t\\hline\n",
       "\t1 & electkwh & 0.353611 & 0.15532 & 0.350303 & 1.82909 & 0 & Float64 \\\\\n",
       "\t2 & heatingkwh & 1.35625 & 0.0 & 0.027696 & 7.5231 & 0 & Float64 \\\\\n",
       "\t3 & hotwaterkwh & 0.344568 & 0.0 & 0.0 & 5.50031 & 0 & Float64 \\\\\n",
       "\t4 & PV\\_generation & 1.89333 & 0.0 & 0.007 & 10.0 & 0 & Float64 \\\\\n",
       "\t5 & Temperature & 9.77827 & -20.413 & 10.934 & 30.197 & 0 & Float64 \\\\\n",
       "\t6 & month & 6.52603 & 1 & 7.0 & 12 & 0 & Int64 \\\\\n",
       "\t7 & day & 15.7205 & 1 & 16.0 & 31 & 0 & Int64 \\\\\n",
       "\t8 & hour & 11.5 & 0 & 11.5 & 23 & 0 & Int64 \\\\\n",
       "\t9 & nday & 4380.5 & 1 & 4380.5 & 8760 & 0 & Int64 \\\\\n",
       "\t10 & hour\\_cos & 0.0416667 & -0.990686 & 0.0676068 & 1.0 & 0 & Float64 \\\\\n",
       "\t11 & hour\\_sin & -2.54489e-17 & -0.997669 & -1.22465e-16 & 0.997669 & 0 & Float64 \\\\\n",
       "\t12 & month\\_cos & -0.00237267 & -1.0 & -1.83697e-16 & 1.0 & 0 & Float64 \\\\\n",
       "\t13 & month\\_sin & -0.0053811 & -1.0 & -2.44929e-16 & 1.0 & 0 & Float64 \\\\\n",
       "\\end{tabular}\n"
      ],
      "text/plain": [
       "\u001b[1m13×7 DataFrame\u001b[0m\n",
       "\u001b[1m Row \u001b[0m│\u001b[1m variable      \u001b[0m\u001b[1m mean           \u001b[0m\u001b[1m min        \u001b[0m\u001b[1m median         \u001b[0m\u001b[1m max         \u001b[0m\u001b[1m\u001b[0m ⋯\n",
       "\u001b[1m     \u001b[0m│\u001b[90m Symbol        \u001b[0m\u001b[90m Float64        \u001b[0m\u001b[90m Real       \u001b[0m\u001b[90m Float64        \u001b[0m\u001b[90m Real        \u001b[0m\u001b[90m\u001b[0m ⋯\n",
       "─────┼──────────────────────────────────────────────────────────────────────────\n",
       "   1 │ electkwh          0.353611       0.15532      0.350303        1.82909   ⋯\n",
       "   2 │ heatingkwh        1.35625        0.0          0.027696        7.5231\n",
       "   3 │ hotwaterkwh       0.344568       0.0          0.0             5.50031\n",
       "   4 │ PV_generation     1.89333        0.0          0.007          10.0\n",
       "   5 │ Temperature       9.77827      -20.413       10.934          30.197     ⋯\n",
       "   6 │ month             6.52603        1            7.0            12\n",
       "   7 │ day              15.7205         1           16.0            31\n",
       "   8 │ hour             11.5            0           11.5            23\n",
       "   9 │ nday           4380.5            1         4380.5          8760         ⋯\n",
       "  10 │ hour_cos          0.0416667     -0.990686     0.0676068       1.0\n",
       "  11 │ hour_sin         -2.54489e-17   -0.997669    -1.22465e-16     0.997669\n",
       "  12 │ month_cos        -0.00237267    -1.0         -1.83697e-16     1.0\n",
       "  13 │ month_sin        -0.0053811     -1.0         -2.44929e-16     1.0       ⋯\n",
       "\u001b[36m                                                               2 columns omitted\u001b[0m"
      ]
     },
     "execution_count": 6,
     "metadata": {},
     "output_type": "execute_result"
    }
   ],
   "source": [
    "describe(Input_df)"
   ]
  },
  {
   "cell_type": "markdown",
   "metadata": {},
   "source": [
    "## Add dynamic prices based on Ye et al. 2020"
   ]
  },
  {
   "cell_type": "code",
   "execution_count": 7,
   "metadata": {},
   "outputs": [
    {
     "data": {
      "text/plain": [
       "set_dynamic_prices (generic function with 1 method)"
      ]
     },
     "execution_count": 7,
     "metadata": {},
     "output_type": "execute_result"
    }
   ],
   "source": [
    "function set_dynamic_prices(Input_df)\n",
    "    map(eachrow(Input_df)) do r\n",
    "        if r.month >= 5 && r.month <= 10\n",
    "            if (r.hour >= 6 && r.hour <= 9) || (r.hour >= 16 && r.hour <= 17)\n",
    "                return 0.3f0\n",
    "            elseif (r.hour >= 10 && r.hour <= 15)\n",
    "                return 0.6f0\n",
    "            else\n",
    "                return 0.15f0\n",
    "            end\n",
    "        elseif r.month >= 11 || r.month <= 4\n",
    "            if (r.hour >= 6 && r.hour <= 9) || (r.hour >= 16 && r.hour <= 17)\n",
    "                return 0.6f0\n",
    "            elseif r.hour >= 10 && r.hour <= 15\n",
    "                return 0.3f0\n",
    "            else\n",
    "                return 0.15f0\n",
    "            end\n",
    "        end\n",
    "    end\n",
    "end        "
   ]
  },
  {
   "cell_type": "code",
   "execution_count": 8,
   "metadata": {},
   "outputs": [],
   "source": [
    "Input_df[!, \"p_buy\"] = set_dynamic_prices(Input_df);\n",
    "Input_df[!, \"p_sell\"] = 0.5 .* Input_df[!, \"p_buy\"];"
   ]
  },
  {
   "cell_type": "code",
   "execution_count": 9,
   "metadata": {
    "scrolled": true
   },
   "outputs": [
    {
     "data": {
      "text/html": [
       "<table class=\"data-frame\"><thead><tr><th></th><th>variable</th><th>mean</th><th>min</th><th>median</th><th>max</th><th>nmissing</th><th>eltype</th></tr><tr><th></th><th>Symbol</th><th>Abstrac…</th><th>Real</th><th>Float64</th><th>Real</th><th>Int64</th><th>DataType</th></tr></thead><tbody><p>15 rows × 7 columns</p><tr><th>1</th><td>electkwh</td><td>0.353611</td><td>0.15532</td><td>0.350303</td><td>1.82909</td><td>0</td><td>Float64</td></tr><tr><th>2</th><td>heatingkwh</td><td>1.35625</td><td>0.0</td><td>0.027696</td><td>7.5231</td><td>0</td><td>Float64</td></tr><tr><th>3</th><td>hotwaterkwh</td><td>0.344568</td><td>0.0</td><td>0.0</td><td>5.50031</td><td>0</td><td>Float64</td></tr><tr><th>4</th><td>PV_generation</td><td>1.89333</td><td>0.0</td><td>0.007</td><td>10.0</td><td>0</td><td>Float64</td></tr><tr><th>5</th><td>Temperature</td><td>9.77827</td><td>-20.413</td><td>10.934</td><td>30.197</td><td>0</td><td>Float64</td></tr><tr><th>6</th><td>month</td><td>6.52603</td><td>1</td><td>7.0</td><td>12</td><td>0</td><td>Int64</td></tr><tr><th>7</th><td>day</td><td>15.7205</td><td>1</td><td>16.0</td><td>31</td><td>0</td><td>Int64</td></tr><tr><th>8</th><td>hour</td><td>11.5</td><td>0</td><td>11.5</td><td>23</td><td>0</td><td>Int64</td></tr><tr><th>9</th><td>nday</td><td>4380.5</td><td>1</td><td>4380.5</td><td>8760</td><td>0</td><td>Int64</td></tr><tr><th>10</th><td>hour_cos</td><td>0.0416667</td><td>-0.990686</td><td>0.0676068</td><td>1.0</td><td>0</td><td>Float64</td></tr><tr><th>11</th><td>hour_sin</td><td>-2.54489e-17</td><td>-0.997669</td><td>-1.22465e-16</td><td>0.997669</td><td>0</td><td>Float64</td></tr><tr><th>12</th><td>month_cos</td><td>-0.00237267</td><td>-1.0</td><td>-1.83697e-16</td><td>1.0</td><td>0</td><td>Float64</td></tr><tr><th>13</th><td>month_sin</td><td>-0.0053811</td><td>-1.0</td><td>-2.44929e-16</td><td>1.0</td><td>0</td><td>Float64</td></tr><tr><th>14</th><td>p_buy</td><td>0.3</td><td>0.15</td><td>0.225</td><td>0.6</td><td>0</td><td>Float32</td></tr><tr><th>15</th><td>p_sell</td><td>0.15</td><td>0.075</td><td>0.1125</td><td>0.3</td><td>0</td><td>Float64</td></tr></tbody></table>"
      ],
      "text/latex": [
       "\\begin{tabular}{r|ccccccc}\n",
       "\t& variable & mean & min & median & max & nmissing & eltype\\\\\n",
       "\t\\hline\n",
       "\t& Symbol & Abstrac… & Real & Float64 & Real & Int64 & DataType\\\\\n",
       "\t\\hline\n",
       "\t1 & electkwh & 0.353611 & 0.15532 & 0.350303 & 1.82909 & 0 & Float64 \\\\\n",
       "\t2 & heatingkwh & 1.35625 & 0.0 & 0.027696 & 7.5231 & 0 & Float64 \\\\\n",
       "\t3 & hotwaterkwh & 0.344568 & 0.0 & 0.0 & 5.50031 & 0 & Float64 \\\\\n",
       "\t4 & PV\\_generation & 1.89333 & 0.0 & 0.007 & 10.0 & 0 & Float64 \\\\\n",
       "\t5 & Temperature & 9.77827 & -20.413 & 10.934 & 30.197 & 0 & Float64 \\\\\n",
       "\t6 & month & 6.52603 & 1 & 7.0 & 12 & 0 & Int64 \\\\\n",
       "\t7 & day & 15.7205 & 1 & 16.0 & 31 & 0 & Int64 \\\\\n",
       "\t8 & hour & 11.5 & 0 & 11.5 & 23 & 0 & Int64 \\\\\n",
       "\t9 & nday & 4380.5 & 1 & 4380.5 & 8760 & 0 & Int64 \\\\\n",
       "\t10 & hour\\_cos & 0.0416667 & -0.990686 & 0.0676068 & 1.0 & 0 & Float64 \\\\\n",
       "\t11 & hour\\_sin & -2.54489e-17 & -0.997669 & -1.22465e-16 & 0.997669 & 0 & Float64 \\\\\n",
       "\t12 & month\\_cos & -0.00237267 & -1.0 & -1.83697e-16 & 1.0 & 0 & Float64 \\\\\n",
       "\t13 & month\\_sin & -0.0053811 & -1.0 & -2.44929e-16 & 1.0 & 0 & Float64 \\\\\n",
       "\t14 & p\\_buy & 0.3 & 0.15 & 0.225 & 0.6 & 0 & Float32 \\\\\n",
       "\t15 & p\\_sell & 0.15 & 0.075 & 0.1125 & 0.3 & 0 & Float64 \\\\\n",
       "\\end{tabular}\n"
      ],
      "text/plain": [
       "\u001b[1m15×7 DataFrame\u001b[0m\n",
       "\u001b[1m Row \u001b[0m│\u001b[1m variable      \u001b[0m\u001b[1m mean           \u001b[0m\u001b[1m min        \u001b[0m\u001b[1m median         \u001b[0m\u001b[1m max         \u001b[0m\u001b[1m\u001b[0m ⋯\n",
       "\u001b[1m     \u001b[0m│\u001b[90m Symbol        \u001b[0m\u001b[90m Abstract…      \u001b[0m\u001b[90m Real       \u001b[0m\u001b[90m Float64        \u001b[0m\u001b[90m Real        \u001b[0m\u001b[90m\u001b[0m ⋯\n",
       "─────┼──────────────────────────────────────────────────────────────────────────\n",
       "   1 │ electkwh          0.353611       0.15532      0.350303        1.82909   ⋯\n",
       "   2 │ heatingkwh        1.35625        0.0          0.027696        7.5231\n",
       "   3 │ hotwaterkwh       0.344568       0.0          0.0             5.50031\n",
       "   4 │ PV_generation     1.89333        0.0          0.007          10.0\n",
       "   5 │ Temperature       9.77827      -20.413       10.934          30.197     ⋯\n",
       "   6 │ month             6.52603        1            7.0            12\n",
       "   7 │ day              15.7205         1           16.0            31\n",
       "   8 │ hour             11.5            0           11.5            23\n",
       "   9 │ nday           4380.5            1         4380.5          8760         ⋯\n",
       "  10 │ hour_cos          0.0416667     -0.990686     0.0676068       1.0\n",
       "  11 │ hour_sin         -2.54489e-17   -0.997669    -1.22465e-16     0.997669\n",
       "  12 │ month_cos        -0.00237267    -1.0         -1.83697e-16     1.0\n",
       "  13 │ month_sin        -0.0053811     -1.0         -2.44929e-16     1.0       ⋯\n",
       "  14 │ p_buy             0.3            0.15         0.225           0.6\n",
       "  15 │ p_sell            0.15           0.075        0.1125          0.3\n",
       "\u001b[36m                                                               2 columns omitted\u001b[0m"
      ]
     },
     "execution_count": 9,
     "metadata": {},
     "output_type": "execute_result"
    }
   ],
   "source": [
    "describe(Input_df)"
   ]
  },
  {
   "cell_type": "markdown",
   "metadata": {},
   "source": [
    "## Extract training, testing + evalution data set for summer, winter, both, all"
   ]
  },
  {
   "cell_type": "code",
   "execution_count": 10,
   "metadata": {
    "scrolled": false
   },
   "outputs": [
    {
     "data": {
      "text/plain": [
       "(\u001b[1m17×7 DataFrame\u001b[0m\n",
       "\u001b[1m Row \u001b[0m│\u001b[1m variable      \u001b[0m\u001b[1m mean           \u001b[0m\u001b[1m min         \u001b[0m\u001b[1m median         \u001b[0m\u001b[1m max        \u001b[0m ⋯\n",
       "\u001b[1m     \u001b[0m│\u001b[90m Symbol        \u001b[0m\u001b[90m Abstract…      \u001b[0m\u001b[90m Real        \u001b[0m\u001b[90m Float64        \u001b[0m\u001b[90m Real       \u001b[0m ⋯\n",
       "─────┼──────────────────────────────────────────────────────────────────────────\n",
       "   1 │ electkwh          0.308262        0.15532      0.310149        1.18675  ⋯\n",
       "   2 │ heatingkwh        0.00587495      0.0          0.0             1.23951\n",
       "   3 │ hotwaterkwh       0.257596        0.0          0.0             5.50031\n",
       "   4 │ PV_generation     2.26376         0.0          0.603           9.154\n",
       "   5 │ Temperature      20.596           7.075       20.7915         29.626    ⋯\n",
       "   6 │ month             7.01087         6            7.0             8\n",
       "   7 │ day              15.837           1           16.0            31\n",
       "   8 │ hour             11.5             0           11.5            23\n",
       "   9 │ nday           4728.5          3625         4728.5          5832        ⋯\n",
       "  10 │ hour_cos          0.0416667      -0.990686     0.0676068       1.0\n",
       "  11 │ hour_sin         -2.67914e-17    -0.997669    -1.22465e-16     0.997669\n",
       "  12 │ month_cos        -0.786378       -1.0         -0.866025       -0.5\n",
       "  13 │ month_sin        -0.460291       -0.866025    -0.5             1.22465e ⋯\n",
       "  14 │ p_buy             0.3             0.15         0.225           0.6\n",
       "  15 │ p_sell            0.15            0.075        0.1125          0.3\n",
       "  16 │ summer            1.0             1            1.0             1\n",
       "  17 │ winter            0.0             0            0.0             0        ⋯\n",
       "\u001b[36m                                                               3 columns omitted\u001b[0m, (2208, 17))"
      ]
     },
     "execution_count": 10,
     "metadata": {},
     "output_type": "execute_result"
    }
   ],
   "source": [
    "# summer June - August\n",
    "Input_data_summer = filter(row -> row.month >= 6 && row.month  <= 8, Input_df)\n",
    "Input_data_summer[!, \"summer\"] .= 1\n",
    "Input_data_summer[!, \"winter\"] .= 0\n",
    "describe(Input_data_summer), size(Input_data_summer)"
   ]
  },
  {
   "cell_type": "code",
   "execution_count": 11,
   "metadata": {},
   "outputs": [],
   "source": [
    "# summer split\n",
    "summer_training = filter(row -> row.day <= 15, Input_data_summer)\n",
    "summer_evaluation = filter(row -> row.day > 15 && row.day <= 20, Input_data_summer)\n",
    "summer_testing = filter(row -> row.day > 20, Input_data_summer)\n",
    "\n",
    "# write data files\n",
    "CSV.write(\"data/summer_train_TOU.csv\", summer_training);\n",
    "CSV.write(\"data/summer_test_TOU.csv\", summer_testing);\n",
    "CSV.write(\"data/summer_eval_TOU.csv\", summer_evaluation);"
   ]
  },
  {
   "cell_type": "code",
   "execution_count": 12,
   "metadata": {
    "scrolled": false
   },
   "outputs": [
    {
     "data": {
      "text/plain": [
       "(\u001b[1m17×7 DataFrame\u001b[0m\n",
       "\u001b[1m Row \u001b[0m│\u001b[1m variable      \u001b[0m\u001b[1m mean           \u001b[0m\u001b[1m min           \u001b[0m\u001b[1m median         \u001b[0m\u001b[1m max      \u001b[0m ⋯\n",
       "\u001b[1m     \u001b[0m│\u001b[90m Symbol        \u001b[0m\u001b[90m Abstract…      \u001b[0m\u001b[90m Real          \u001b[0m\u001b[90m Float64        \u001b[0m\u001b[90m Real     \u001b[0m ⋯\n",
       "─────┼──────────────────────────────────────────────────────────────────────────\n",
       "   1 │ electkwh          0.40455        0.200706        0.40841         1.5557 ⋯\n",
       "   2 │ heatingkwh        3.50821        0.01753         3.67684         7.5231\n",
       "   3 │ hotwaterkwh       0.396046       0.0             0.0             5.5003\n",
       "   4 │ PV_generation     1.32633        0.0             0.0            10.0\n",
       "   5 │ Temperature      -2.88367      -20.413          -2.0965         14.845  ⋯\n",
       "   6 │ month             5.1            1               2.0            12\n",
       "   7 │ day              15.5333         1              15.5            31\n",
       "   8 │ hour             11.5            0              11.5            23\n",
       "   9 │ nday           3353.83           1            1080.5          8760      ⋯\n",
       "  10 │ hour_cos          0.0416667     -0.990686        0.0676068       1.0\n",
       "  11 │ hour_sin         -2.46716e-17   -0.997669       -1.22465e-16     0.9976\n",
       "  12 │ month_cos         0.798298       0.5             0.866025        1.0\n",
       "  13 │ month_sin         0.441652      -2.44929e-16     0.5             0.8660 ⋯\n",
       "  14 │ p_buy             0.3            0.15            0.225           0.6\n",
       "  15 │ p_sell            0.15           0.075           0.1125          0.3\n",
       "  16 │ summer            0.0            0               0.0             0\n",
       "  17 │ winter            1.0            1               1.0             1      ⋯\n",
       "\u001b[36m                                                               3 columns omitted\u001b[0m, (2160, 17))"
      ]
     },
     "execution_count": 12,
     "metadata": {},
     "output_type": "execute_result"
    }
   ],
   "source": [
    "# winter \n",
    "Input_data_winter = filter(row -> row.month >= 12 || row.month  <= 2, Input_df)\n",
    "Input_data_winter[!, \"summer\"] .= 0\n",
    "Input_data_winter[!, \"winter\"] .= 1\n",
    "describe(Input_data_winter), size(Input_data_winter)"
   ]
  },
  {
   "cell_type": "code",
   "execution_count": 13,
   "metadata": {},
   "outputs": [],
   "source": [
    "# winter split\n",
    "winter_training = filter(row -> row.day <= 15, Input_data_winter)\n",
    "winter_evaluation = filter(row -> row.day > 15 && row.day <= 20, Input_data_winter)\n",
    "winter_testing = filter(row -> row.day > 20, Input_data_winter)\n",
    "\n",
    "# write data files\n",
    "CSV.write(\"data/winter_train_TOU.csv\", winter_training);\n",
    "CSV.write(\"data/winter_test_TOU.csv\", winter_testing);\n",
    "CSV.write(\"data/winter_eval_TOU.csv\", winter_evaluation);"
   ]
  },
  {
   "cell_type": "code",
   "execution_count": 14,
   "metadata": {},
   "outputs": [],
   "source": [
    "# whole year split\n",
    "all_training = filter(row -> row.day <= 15, Input_df)\n",
    "all_evaluation = filter(row -> row.day > 15 && row.day <= 20, Input_df)\n",
    "all_testing = filter(row -> row.day > 20, Input_df)\n",
    "\n",
    "# write data files\n",
    "CSV.write(\"data/all_train_TOU.csv\", all_training);\n",
    "CSV.write(\"data/all_test_TOU.csv\", all_testing);\n",
    "CSV.write(\"data/all_eval_TOU.csv\", all_evaluation);"
   ]
  },
  {
   "cell_type": "code",
   "execution_count": 15,
   "metadata": {},
   "outputs": [
    {
     "data": {
      "text/plain": [
       "(\u001b[1m17×7 DataFrame\u001b[0m\n",
       "\u001b[1m Row \u001b[0m│\u001b[1m variable      \u001b[0m\u001b[1m mean           \u001b[0m\u001b[1m min        \u001b[0m\u001b[1m median         \u001b[0m\u001b[1m max         \u001b[0m\u001b[1m\u001b[0m ⋯\n",
       "\u001b[1m     \u001b[0m│\u001b[90m Symbol        \u001b[0m\u001b[90m Abstract…      \u001b[0m\u001b[90m Real       \u001b[0m\u001b[90m Float64        \u001b[0m\u001b[90m Real        \u001b[0m\u001b[90m\u001b[0m ⋯\n",
       "─────┼──────────────────────────────────────────────────────────────────────────\n",
       "   1 │ electkwh          0.355877       0.15532      0.326538        1.55576   ⋯\n",
       "   2 │ heatingkwh        1.7378         0.0          0.0191135       7.5231\n",
       "   3 │ hotwaterkwh       0.326061       0.0          0.0             5.50031\n",
       "   4 │ PV_generation     1.8002         0.0          0.0045         10.0\n",
       "   5 │ Temperature       8.98519      -20.413       12.6065         29.626     ⋯\n",
       "   6 │ month             6.06593        1            7.0            12\n",
       "   7 │ day              15.6868         1           16.0            31\n",
       "   8 │ hour             11.5            0           11.5            23\n",
       "   9 │ nday           4048.72           1         4392.5          8760         ⋯\n",
       "  10 │ hour_cos          0.0416667     -0.990686     0.0676068       1.0\n",
       "  11 │ hour_sin         -2.68406e-17   -0.997669    -1.22465e-16     0.997669\n",
       "  12 │ month_cos        -0.00274725    -1.0         -0.5             1.0\n",
       "  13 │ month_sin        -0.0142751     -0.866025    -2.44929e-16     0.866025  ⋯\n",
       "  14 │ p_buy             0.3            0.15         0.225           0.6\n",
       "  15 │ p_sell            0.15           0.075        0.1125          0.3\n",
       "  16 │ summer            0.505495       0            1.0             1\n",
       "  17 │ winter            0.494505       0            0.0             1         ⋯\n",
       "\u001b[36m                                                               2 columns omitted\u001b[0m, (4368, 17))"
      ]
     },
     "execution_count": 15,
     "metadata": {},
     "output_type": "execute_result"
    }
   ],
   "source": [
    "describe(vcat(Input_data_winter, Input_data_summer) ), size(vcat(Input_data_winter, Input_data_summer) )"
   ]
  },
  {
   "cell_type": "code",
   "execution_count": 16,
   "metadata": {},
   "outputs": [],
   "source": [
    "# both seasons split\n",
    "both_training = filter(row -> row.day <= 15, vcat(Input_data_winter, Input_data_summer) )\n",
    "both_evaluation = filter(row -> row.day > 15 && row.day <= 20, vcat(Input_data_winter, Input_data_summer))\n",
    "both_testing = filter(row -> row.day > 20, vcat(Input_data_winter, Input_data_summer))\n",
    "\n",
    "# write data files\n",
    "CSV.write(\"data/both_train_TOU.csv\", both_training);\n",
    "CSV.write(\"data/both_test_TOU.csv\", both_testing);\n",
    "CSV.write(\"data/both_eval_TOU.csv\", both_evaluation);"
   ]
  },
  {
   "cell_type": "markdown",
   "metadata": {},
   "source": [
    "## Dataset for fixed prices"
   ]
  },
  {
   "cell_type": "code",
   "execution_count": 17,
   "metadata": {},
   "outputs": [],
   "source": [
    "summer_training[!, \"p_buy\"] .= 0.3\n",
    "summer_evaluation[!, \"p_buy\"] .= 0.3\n",
    "summer_testing[!, \"p_buy\"] .= 0.3\n",
    "winter_training[!, \"p_buy\"] .= 0.3\n",
    "winter_evaluation[!, \"p_buy\"] .= 0.3\n",
    "winter_testing[!, \"p_buy\"] .= 0.3\n",
    "all_training[!, \"p_buy\"] .= 0.3\n",
    "all_evaluation[!, \"p_buy\"] .= 0.3\n",
    "all_testing[!, \"p_buy\"] .= 0.3\n",
    "both_training[!, \"p_buy\"] .= 0.3\n",
    "both_evaluation[!, \"p_buy\"] .= 0.3\n",
    "both_testing[!, \"p_buy\"] .= 0.3\n",
    "\n",
    "summer_training[!, \"p_sell\"] .= 0.1\n",
    "summer_evaluation[!, \"p_sell\"] .= 0.1\n",
    "summer_testing[!, \"p_sell\"] .= 0.1\n",
    "winter_training[!, \"p_sell\"] .= 0.1\n",
    "winter_evaluation[!, \"p_sell\"] .= 0.1\n",
    "winter_testing[!, \"p_sell\"] .= 0.1\n",
    "all_training[!, \"p_sell\"] .= 0.1\n",
    "all_evaluation[!, \"p_sell\"] .= 0.1\n",
    "all_testing[!, \"p_sell\"] .= 0.1\n",
    "both_training[!, \"p_sell\"] .= 0.1\n",
    "both_evaluation[!, \"p_sell\"] .= 0.1\n",
    "both_testing[!, \"p_sell\"] .= 0.1\n",
    "\n",
    "CSV.write(\"data/both_train_fix.csv\", both_training);\n",
    "CSV.write(\"data/both_test_fix.csv\", both_testing);\n",
    "CSV.write(\"data/both_eval_fix.csv\", both_evaluation);\n",
    "CSV.write(\"data/all_train_fix.csv\", all_training);\n",
    "CSV.write(\"data/all_test_fix.csv\", all_testing);\n",
    "CSV.write(\"data/all_eval_fix.csv\", all_evaluation);\n",
    "CSV.write(\"data/summer_train_fix.csv\", summer_training);\n",
    "CSV.write(\"data/summer_test_fix.csv\", summer_testing);\n",
    "CSV.write(\"data/summer_eval_fix.csv\", summer_evaluation);\n",
    "CSV.write(\"data/winter_train_fix.csv\", winter_training);\n",
    "CSV.write(\"data/winter_test_fix.csv\", winter_testing);\n",
    "CSV.write(\"data/winter_eval_fix.csv\", winter_evaluation);"
   ]
  }
 ],
 "metadata": {
  "@webio": {
   "lastCommId": null,
   "lastKernelId": null
  },
  "kernelspec": {
   "display_name": "Julia 1.6.1",
   "language": "julia",
   "name": "julia-1.6"
  },
  "language_info": {
   "file_extension": ".jl",
   "mimetype": "application/julia",
   "name": "julia",
   "version": "1.6.1"
  }
 },
 "nbformat": 4,
 "nbformat_minor": 2
}
